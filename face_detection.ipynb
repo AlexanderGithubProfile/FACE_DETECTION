{
 "cells": [
  {
   "cell_type": "code",
   "execution_count": 18,
   "metadata": {},
   "outputs": [
    {
     "name": "stdout",
     "output_type": "stream",
     "text": [
      "Достигнут конец видео.\n"
     ]
    }
   ],
   "source": [
    "import torch\n",
    "import cv2\n",
    "from torchvision import transforms\n",
    "from facenet_pytorch import MTCNN\n",
    "\n",
    "# Загрузка предварительно обученной модели MTCNN\n",
    "device = torch.device('cuda' if torch.cuda.is_available() else 'cpu')\n",
    "mtcnn = MTCNN(keep_all=True, device=device)\n",
    "\n",
    "# Загрузка видео\n",
    "video_path = r\"C:\\Users\\User\\Desktop\\test_video.mp4\"  # Замените на путь к вашему видео\n",
    "cap = cv2.VideoCapture(video_path)\n",
    "\n",
    "# Получение fps и размера кадра из исходного видео\n",
    "fps = cap.get(cv2.CAP_PROP_FPS)\n",
    "frame_width = int(cap.get(cv2.CAP_PROP_FRAME_WIDTH))\n",
    "frame_height = int(cap.get(cv2.CAP_PROP_FRAME_HEIGHT))\n",
    "\n",
    "fourcc = cv2.VideoWriter_fourcc(*'mp4v')\n",
    "out = cv2.VideoWriter(\"output_blurred.mp4\", fourcc, fps, (frame_width, frame_height))\n",
    "\n",
    "try:\n",
    "    while cap.isOpened():\n",
    "        ret, frame = cap.read()\n",
    "        if not ret:\n",
    "            print(\"Достигнут конец видео.\")\n",
    "            break\n",
    "\n",
    "        # Преобразование кадра в тензор и обнаружение лиц\n",
    "        img = transforms.ToPILImage()(cv2.cvtColor(frame, cv2.COLOR_BGR2RGB))\n",
    "        boxes, _ = mtcnn.detect(img)\n",
    "\n",
    "        # Применение блюра к обнаруженным лицам\n",
    "        if boxes is not None:\n",
    "            for box in boxes:\n",
    "                x, y, w, h = int(box[0]), int(box[1]), int(box[2] - box[0]), int(box[3] - box[1])\n",
    "                face_roi = frame[y:y+h, x:x+w]\n",
    "\n",
    "                # Проверка, что face_roi не пусто\n",
    "                if face_roi is not None and not face_roi.size == 0:\n",
    "                    blurred_face = cv2.GaussianBlur(face_roi, (99, 99), 30)  # Параметры блюра можно настроить\n",
    "                    frame[y:y+h, x:x+w] = blurred_face\n",
    "\n",
    "        # Запись кадра в файл\n",
    "        out.write(frame)\n",
    "\n",
    "        cv2.imshow('Blurred Faces', frame)\n",
    "\n",
    "        if cv2.waitKey(1) & 0xFF == ord('q'):\n",
    "            break\n",
    "except Exception as e:\n",
    "    print(f\"Произошла ошибка: {e}\")\n",
    "\n",
    "cap.release()\n",
    "out.release()\n",
    "cv2.destroyAllWindows()"
   ]
  },
  {
   "cell_type": "code",
   "execution_count": 19,
   "metadata": {},
   "outputs": [
    {
     "name": "stdout",
     "output_type": "stream",
     "text": [
      "Note: you may need to restart the kernel to use updated packages.\n"
     ]
    }
   ],
   "source": [
    "pip freeze > requirements.txt"
   ]
  }
 ],
 "metadata": {
  "kernelspec": {
   "display_name": "Python 3",
   "language": "python",
   "name": "python3"
  },
  "language_info": {
   "codemirror_mode": {
    "name": "ipython",
    "version": 3
   },
   "file_extension": ".py",
   "mimetype": "text/x-python",
   "name": "python",
   "nbconvert_exporter": "python",
   "pygments_lexer": "ipython3",
   "version": "3.9.13"
  }
 },
 "nbformat": 4,
 "nbformat_minor": 2
}
